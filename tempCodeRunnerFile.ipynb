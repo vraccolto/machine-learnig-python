import pandas as pd
import numpy as np
import matplotlib.pyplot as plt
import seaborn as sns
from pathlib import Path
import os


# Exibir todos os gráficos inline
%matplotlib inline

print(os.listdir("data"))